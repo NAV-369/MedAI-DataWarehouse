{
 "cells": [
  {
   "cell_type": "markdown",
   "metadata": {},
   "source": [
    "# Data Cleaning and Transformation\n"
   ]
  },
  {
   "cell_type": "code",
   "execution_count": 5,
   "metadata": {},
   "outputs": [],
   "source": [
    "import pandas as pd\n",
    "# Load scraped data\n",
    "df = pd.read_csv('telegram_raw_data.csv')\n",
    "\n",
    "## Remove rows with missing text\n",
    "df = df.dropna(subset=['text'])\n",
    "\n",
    "## Remove duplicates\n",
    "df = df.drop_duplicates(subset=['text'])\n",
    "\n",
    "# Standardize formats\n",
    "df['text'] = df['text'].str.lower().str.strip()  # Lowercase and strip text\n",
    "if 'date' in df.columns: df['date'] = pd.to_datetime(df['date'], errors='coerce')  # Normalize date format\n",
    "if 'message_id' in df.columns: df['message_id'] = pd.to_numeric(df['message_id'], errors='coerce')  # Ensure numeric\n",
    "\n",
    "# Data Validation\n",
    "df = df.dropna(subset=['text']).drop_duplicates(subset=['text'])  # Remove missing and duplicate rows\n",
    "df = df[df['text'].str.len() > 5]  # Filter entries with text length > 5\n",
    "\n",
    "# Save cleaned data\n",
    "df.to_csv('cleaned_telegram_data.csv', index=False)"
   ]
  },
  {
   "cell_type": "markdown",
   "metadata": {},
   "source": [
    "# Monitoring and Logging:\n",
    "\n"
   ]
  },
  {
   "cell_type": "markdown",
   "metadata": {},
   "source": [
    "### Setup the Logging Configuration"
   ]
  },
  {
   "cell_type": "code",
   "execution_count": 6,
   "metadata": {},
   "outputs": [],
   "source": [
    "import logging\n",
    "from datetime import datetime\n",
    "\n",
    "# Configure the logging system\n",
    "logging.basicConfig(\n",
    "    filename=f'telegram_scraping_{datetime.now().strftime(\"%Y%m%d_%H%M%S\")}.log',\n",
    "    level=logging.INFO,\n",
    "    format='%(asctime)s - %(levelname)s - %(message)s',\n",
    "    filemode='w'  # 'w' to overwrite the file, 'a' to append\n",
    ")\n",
    "\n",
    "# Create logger (optional if you're using root logger directly)\n",
    "logger = logging.getLogger(__name__)"
   ]
  },
  {
   "cell_type": "markdown",
   "metadata": {},
   "source": [
    "### Logging During the Scraping Process"
   ]
  },
  {
   "cell_type": "code",
   "execution_count": 13,
   "metadata": {},
   "outputs": [
    {
     "name": "stderr",
     "output_type": "stream",
     "text": [
      "/var/folders/h5/cqk4jd793hzd58k1ssq6mkd40000gn/T/ipykernel_53595/4071051019.py:7: RuntimeWarning: coroutine 'AuthMethods._start' was never awaited\n",
      "  client.start(phone_number)\n",
      "RuntimeWarning: Enable tracemalloc to get the object allocation traceback\n"
     ]
    }
   ],
   "source": [
    "try:\n",
    "    # Start of the scraping process\n",
    "    logger.info('Starting Telegram scraping process')\n",
    "    \n",
    "    # Authentication\n",
    "    logger.info('Authenticating with Telegram API')\n",
    "    client.start(phone_number)\n",
    "    \n",
    "    # Scraping each channel\n",
    "    for channel in ['DoctorsET', 'Chemed', 'lobelia4cosmetics', 'yetenaweg', 'EAHCI']:\n",
    "        logger.info(f'Starting to scrape channel: {channel}')\n",
    "        try:\n",
    "            messages = client(GetHistoryRequest(peer=channel, limit=500))\n",
    "            logger.info(f'Successfully scraped {len(messages)} messages from {channel}')\n",
    "            # Here you would process the messages\n",
    "        except Exception as e:\n",
    "            logger.error(f'Error while scraping {channel}: {e}', exc_info=True)\n",
    "    \n",
    "    logger.info('Scraping process completed successfully')\n",
    "\n",
    "except Exception as e:\n",
    "    logger.critical('Unexpected error occurred during scraping', exc_info=True)\n",
    "\n",
    "finally:\n",
    "    logger.info('Cleaning up resources')\n",
    "    client.disconnect()  # Assuming 'client' is your TelegramClient instance"
   ]
  },
  {
   "cell_type": "markdown",
   "metadata": {},
   "source": [
    "### Monitoring Progress"
   ]
  },
  {
   "cell_type": "code",
   "execution_count": 11,
   "metadata": {},
   "outputs": [
    {
     "name": "stderr",
     "output_type": "stream",
     "text": [
      "/var/folders/h5/cqk4jd793hzd58k1ssq6mkd40000gn/T/ipykernel_53595/3269271251.py:21: RuntimeWarning: coroutine 'AuthMethods._start' was never awaited\n",
      "  client.start(phone_number)\n",
      "RuntimeWarning: Enable tracemalloc to get the object allocation traceback\n"
     ]
    },
    {
     "data": {
      "text/plain": [
       "<Future pending cb=[shield.<locals>._outer_done_callback() at /Users/zelalemtegene/envs/shared_env/lib/python3.9/asyncio/tasks.py:907]>"
      ]
     },
     "execution_count": 11,
     "metadata": {},
     "output_type": "execute_result"
    }
   ],
   "source": [
    "from telethon import TelegramClient\n",
    "from telethon.tl.functions.messages import GetHistoryRequest\n",
    "import logging\n",
    "\n",
    "# Configure the logging system\n",
    "logging.basicConfig(\n",
    "    filename=f'telegram_scraping_{datetime.now().strftime(\"%Y%m%d_%H%M%S\")}.log',\n",
    "    level=logging.INFO,\n",
    "    format='%(asctime)s - %(levelname)s - %(message)s',\n",
    "    filemode='w'\n",
    ")\n",
    "logger = logging.getLogger(__name__)\n",
    "\n",
    "# Define your TelegramClient here\n",
    "api_id = '21423729'  # Replace with your actual API ID\n",
    "api_hash = '60c830a40a5ff9cb549824b9a6399737'  # Replace with your actual API hash\n",
    "phone_number = '+251986408483'  # Replace with your phone number\n",
    "client = TelegramClient('session_name', api_id, api_hash)\n",
    "\n",
    "# Authentication\n",
    "client.start(phone_number)\n",
    "\n",
    "# Define your list of channels\n",
    "channels = ['DoctorsET', 'Chemed', 'lobelia4cosmetics', 'yetenaweg', 'EAHCI']\n",
    "\n",
    "# Example if you're processing a large number of messages\n",
    "total_messages = 0\n",
    "for channel in channels:\n",
    "    try:\n",
    "        messages = client(GetHistoryRequest(peer=channel, limit=500))\n",
    "        total_messages += len(messages)\n",
    "        logger.info(f'Processed {total_messages} messages so far')\n",
    "    except Exception as e:\n",
    "        logger.error(f'Error processing channel {channel}: {e}', exc_info=True)\n",
    "\n",
    "# Cleanup\n",
    "client.disconnect()"
   ]
  }
 ],
 "metadata": {
  "kernelspec": {
   "display_name": "shared_env",
   "language": "python",
   "name": "python3"
  },
  "language_info": {
   "codemirror_mode": {
    "name": "ipython",
    "version": 3
   },
   "file_extension": ".py",
   "mimetype": "text/x-python",
   "name": "python",
   "nbconvert_exporter": "python",
   "pygments_lexer": "ipython3",
   "version": "3.9.18"
  }
 },
 "nbformat": 4,
 "nbformat_minor": 2
}
